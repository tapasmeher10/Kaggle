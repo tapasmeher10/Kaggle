{
  "nbformat": 4,
  "nbformat_minor": 0,
  "metadata": {
    "colab": {
      "name": "titanic using naive bayes.ipynb",
      "provenance": [],
      "authorship_tag": "ABX9TyNOGsiIsNfNP1wTxTLyaQX5",
      "include_colab_link": true
    },
    "kernelspec": {
      "name": "python3",
      "display_name": "Python 3"
    },
    "language_info": {
      "name": "python"
    }
  },
  "cells": [
    {
      "cell_type": "markdown",
      "metadata": {
        "id": "view-in-github",
        "colab_type": "text"
      },
      "source": [
        "<a href=\"https://colab.research.google.com/github/tapasmeher10/Kaggle/blob/main/titanic_using_Logistic_regression.ipynb\" target=\"_parent\"><img src=\"https://colab.research.google.com/assets/colab-badge.svg\" alt=\"Open In Colab\"/></a>"
      ]
    },
    {
      "cell_type": "markdown",
      "metadata": {
        "id": "fCNAs1hwjPVb"
      },
      "source": [
        "##Import Libraries"
      ]
    },
    {
      "cell_type": "code",
      "metadata": {
        "id": "ddtE2_9pjCCU"
      },
      "source": [
        "import numpy as np\n",
        "import pandas as pd"
      ],
      "execution_count": null,
      "outputs": []
    },
    {
      "cell_type": "markdown",
      "metadata": {
        "id": "2-6Vxo7djwAC"
      },
      "source": [
        "##Importing Dataset"
      ]
    },
    {
      "cell_type": "code",
      "metadata": {
        "id": "9chopLYej2t7"
      },
      "source": [
        "dataset=pd.read_csv(\"train2.csv\")\n",
        "testset=pd.read_csv(\"test2.csv\")"
      ],
      "execution_count": null,
      "outputs": []
    },
    {
      "cell_type": "markdown",
      "metadata": {
        "id": "63M1uqPepGv0"
      },
      "source": [
        "##encoding categorical data"
      ]
    },
    {
      "cell_type": "code",
      "metadata": {
        "id": "RzWtsAKNpLF5"
      },
      "source": [
        "gen = set(dataset['Sex'])\n",
        "dataset['Sex'] = dataset['Sex'].map({'female': 0, 'male': 1}).astype(int)\n",
        "gen1 = set(testset['Sex'])\n",
        "testset['Sex'] = testset['Sex'].map({'female': 0, 'male': 1}).astype(int)"
      ],
      "execution_count": null,
      "outputs": []
    },
    {
      "cell_type": "code",
      "metadata": {
        "id": "_U-ThalUo6Ha"
      },
      "source": [
        "testset['Pclass']=testset['Pclass'].astype(float)"
      ],
      "execution_count": null,
      "outputs": []
    },
    {
      "cell_type": "markdown",
      "metadata": {
        "id": "0BlwmeX1UNrE"
      },
      "source": [
        "##Nan value"
      ]
    },
    {
      "cell_type": "code",
      "metadata": {
        "colab": {
          "base_uri": "https://localhost:8080/"
        },
        "id": "H43_OINsUVXn",
        "outputId": "63b43b56-e9f4-40c2-e35c-b272598ef4c0"
      },
      "source": [
        "dataset.columns[dataset.isna().any()]"
      ],
      "execution_count": null,
      "outputs": [
        {
          "output_type": "execute_result",
          "data": {
            "text/plain": [
              "Index(['Age'], dtype='object')"
            ]
          },
          "metadata": {
            "tags": []
          },
          "execution_count": 181
        }
      ]
    },
    {
      "cell_type": "code",
      "metadata": {
        "id": "fRc_Cq9nnkEH"
      },
      "source": [
        "dataset.Age=dataset.Age.fillna(dataset.Age.mean())"
      ],
      "execution_count": null,
      "outputs": []
    },
    {
      "cell_type": "code",
      "metadata": {
        "colab": {
          "base_uri": "https://localhost:8080/"
        },
        "id": "j74whxEBwKPK",
        "outputId": "84a7f22c-2f94-4413-c87d-1a91b3894a9f"
      },
      "source": [
        "testset.columns[testset.isna().any()]"
      ],
      "execution_count": null,
      "outputs": [
        {
          "output_type": "execute_result",
          "data": {
            "text/plain": [
              "Index(['Age', 'Fare'], dtype='object')"
            ]
          },
          "metadata": {
            "tags": []
          },
          "execution_count": 183
        }
      ]
    },
    {
      "cell_type": "code",
      "metadata": {
        "id": "0-aMQO2du91R"
      },
      "source": [
        "testset.Age=testset.Age.fillna(testset.Age.mean())"
      ],
      "execution_count": null,
      "outputs": []
    },
    {
      "cell_type": "code",
      "metadata": {
        "id": "yqoKdu-ywlel"
      },
      "source": [
        "testset.Fare=testset.Fare.fillna(testset.Fare.mean())"
      ],
      "execution_count": null,
      "outputs": []
    },
    {
      "cell_type": "markdown",
      "metadata": {
        "id": "pa3mssiEVD5c"
      },
      "source": [
        "##Devide data"
      ]
    },
    {
      "cell_type": "code",
      "metadata": {
        "id": "eYEGM9_6Oy7B"
      },
      "source": [
        "x=dataset.drop(\"Survived\",axis=\"columns\")"
      ],
      "execution_count": null,
      "outputs": []
    },
    {
      "cell_type": "code",
      "metadata": {
        "colab": {
          "base_uri": "https://localhost:8080/"
        },
        "id": "y112z6iAZeuu",
        "outputId": "fbce3b9c-1e61-4702-d1f1-24d5ba5c852a"
      },
      "source": [
        "y=dataset.Survived\n",
        "y"
      ],
      "execution_count": null,
      "outputs": [
        {
          "output_type": "execute_result",
          "data": {
            "text/plain": [
              "0      0\n",
              "1      1\n",
              "2      1\n",
              "3      1\n",
              "4      0\n",
              "      ..\n",
              "886    0\n",
              "887    1\n",
              "888    0\n",
              "889    1\n",
              "890    0\n",
              "Name: Survived, Length: 891, dtype: int64"
            ]
          },
          "metadata": {
            "tags": []
          },
          "execution_count": 187
        }
      ]
    },
    {
      "cell_type": "markdown",
      "metadata": {
        "id": "xDzVJCOSO9yk"
      },
      "source": [
        "##Feature scalling"
      ]
    },
    {
      "cell_type": "code",
      "metadata": {
        "id": "6iCbVrX1PBbo"
      },
      "source": [
        "from sklearn.preprocessing import StandardScaler\n",
        "sc=StandardScaler()\n",
        "x=sc.fit_transform(x) "
      ],
      "execution_count": null,
      "outputs": []
    },
    {
      "cell_type": "code",
      "metadata": {
        "id": "a5C_l5ypohRO"
      },
      "source": [
        "from sklearn.preprocessing import StandardScaler\n",
        "sc1=StandardScaler()\n",
        "testset=sc1.fit_transform(testset) "
      ],
      "execution_count": null,
      "outputs": []
    },
    {
      "cell_type": "markdown",
      "metadata": {
        "id": "I2Jy-wU8PsqR"
      },
      "source": [
        "##tTraining"
      ]
    },
    {
      "cell_type": "code",
      "metadata": {
        "colab": {
          "base_uri": "https://localhost:8080/"
        },
        "id": "g8eNUm1FP0V0",
        "outputId": "17222250-8777-4aee-bfba-96603ec94843"
      },
      "source": [
        "from sklearn.linear_model import LogisticRegression\n",
        "classfier=LogisticRegression(random_state=0)\n",
        "classfier.fit(x,y)"
      ],
      "execution_count": null,
      "outputs": [
        {
          "output_type": "execute_result",
          "data": {
            "text/plain": [
              "LogisticRegression(C=1.0, class_weight=None, dual=False, fit_intercept=True,\n",
              "                   intercept_scaling=1, l1_ratio=None, max_iter=100,\n",
              "                   multi_class='auto', n_jobs=None, penalty='l2',\n",
              "                   random_state=0, solver='lbfgs', tol=0.0001, verbose=0,\n",
              "                   warm_start=False)"
            ]
          },
          "metadata": {
            "tags": []
          },
          "execution_count": 190
        }
      ]
    },
    {
      "cell_type": "markdown",
      "metadata": {
        "id": "cVXw2dbUQYNY"
      },
      "source": [
        "##predict xtest"
      ]
    },
    {
      "cell_type": "code",
      "metadata": {
        "id": "lBBGLaxLuJRS"
      },
      "source": [
        "\n",
        "y_pred=classfier.predict(testset)"
      ],
      "execution_count": null,
      "outputs": []
    },
    {
      "cell_type": "code",
      "metadata": {
        "id": "9JUAqmpHUqxp"
      },
      "source": [
        "real_test = np.array ((len(x1), 1)).astype(int)\n",
        "pred1 = pd.DataFrame(y_pred, columns=['PassengerId']).to_csv('data1.csv')"
      ],
      "execution_count": null,
      "outputs": []
    }
  ]
}