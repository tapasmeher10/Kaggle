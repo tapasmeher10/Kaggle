{
  "nbformat": 4,
  "nbformat_minor": 0,
  "metadata": {
    "colab": {
      "name": "titanic using naive bayes.ipynb",
      "provenance": [],
      "authorship_tag": "ABX9TyPx+N13GZOmRCx2IkWghqI9",
      "include_colab_link": true
    },
    "kernelspec": {
      "name": "python3",
      "display_name": "Python 3"
    },
    "language_info": {
      "name": "python"
    }
  },
  "cells": [
    {
      "cell_type": "markdown",
      "metadata": {
        "id": "view-in-github",
        "colab_type": "text"
      },
      "source": [
        "<a href=\"https://colab.research.google.com/github/tapasmeher10/Kaggle/blob/main/titanic_using_naive_bayes.ipynb\" target=\"_parent\"><img src=\"https://colab.research.google.com/assets/colab-badge.svg\" alt=\"Open In Colab\"/></a>"
      ]
    },
    {
      "cell_type": "markdown",
      "metadata": {
        "id": "fCNAs1hwjPVb"
      },
      "source": [
        "##Import Libraries"
      ]
    },
    {
      "cell_type": "code",
      "metadata": {
        "id": "ddtE2_9pjCCU"
      },
      "source": [
        "import numpy as np\n",
        "import pandas as pd"
      ],
      "execution_count": 208,
      "outputs": []
    },
    {
      "cell_type": "markdown",
      "metadata": {
        "id": "2-6Vxo7djwAC"
      },
      "source": [
        "##Importing Dataset"
      ]
    },
    {
      "cell_type": "code",
      "metadata": {
        "id": "9chopLYej2t7"
      },
      "source": [
        "dataset=pd.read_csv(\"train2.csv\")\n",
        "testset=pd.read_csv(\"test2.csv\")"
      ],
      "execution_count": 209,
      "outputs": []
    },
    {
      "cell_type": "markdown",
      "metadata": {
        "id": "63M1uqPepGv0"
      },
      "source": [
        "##encoding categorical data"
      ]
    },
    {
      "cell_type": "code",
      "metadata": {
        "id": "RzWtsAKNpLF5"
      },
      "source": [
        "gen = set(dataset['Sex'])\n",
        "dataset['Sex'] = dataset['Sex'].map({'female': 0, 'male': 1}).astype(int)\n",
        "gen1 = set(testset['Sex'])\n",
        "testset['Sex'] = testset['Sex'].map({'female': 0, 'male': 1}).astype(int)"
      ],
      "execution_count": 210,
      "outputs": []
    },
    {
      "cell_type": "code",
      "metadata": {
        "id": "_U-ThalUo6Ha"
      },
      "source": [
        "testset['Pclass']=testset['Pclass'].astype(float)"
      ],
      "execution_count": 211,
      "outputs": []
    },
    {
      "cell_type": "markdown",
      "metadata": {
        "id": "0BlwmeX1UNrE"
      },
      "source": [
        "##Nan value"
      ]
    },
    {
      "cell_type": "code",
      "metadata": {
        "colab": {
          "base_uri": "https://localhost:8080/"
        },
        "id": "H43_OINsUVXn",
        "outputId": "bdc35e71-3b11-4b6a-d228-659b8d457347"
      },
      "source": [
        "dataset.columns[dataset.isna().any()]"
      ],
      "execution_count": 212,
      "outputs": [
        {
          "output_type": "execute_result",
          "data": {
            "text/plain": [
              "Index(['Age'], dtype='object')"
            ]
          },
          "metadata": {
            "tags": []
          },
          "execution_count": 212
        }
      ]
    },
    {
      "cell_type": "code",
      "metadata": {
        "id": "fRc_Cq9nnkEH"
      },
      "source": [
        "dataset.Age=dataset.Age.fillna(dataset.Age.mean())"
      ],
      "execution_count": 213,
      "outputs": []
    },
    {
      "cell_type": "code",
      "metadata": {
        "colab": {
          "base_uri": "https://localhost:8080/"
        },
        "id": "j74whxEBwKPK",
        "outputId": "6aa9101c-b1b1-4c73-a5e6-10439085ac76"
      },
      "source": [
        "testset.columns[testset.isna().any()]"
      ],
      "execution_count": 214,
      "outputs": [
        {
          "output_type": "execute_result",
          "data": {
            "text/plain": [
              "Index(['Age', 'Fare'], dtype='object')"
            ]
          },
          "metadata": {
            "tags": []
          },
          "execution_count": 214
        }
      ]
    },
    {
      "cell_type": "code",
      "metadata": {
        "id": "0-aMQO2du91R"
      },
      "source": [
        "testset.Age=testset.Age.fillna(testset.Age.mean())"
      ],
      "execution_count": 215,
      "outputs": []
    },
    {
      "cell_type": "code",
      "metadata": {
        "id": "yqoKdu-ywlel"
      },
      "source": [
        "testset.Fare=testset.Fare.fillna(testset.Fare.mean())"
      ],
      "execution_count": 216,
      "outputs": []
    },
    {
      "cell_type": "markdown",
      "metadata": {
        "id": "pa3mssiEVD5c"
      },
      "source": [
        "##Devide data"
      ]
    },
    {
      "cell_type": "code",
      "metadata": {
        "id": "eYEGM9_6Oy7B"
      },
      "source": [
        "x=dataset.drop(\"Survived\",axis=\"columns\")"
      ],
      "execution_count": 217,
      "outputs": []
    },
    {
      "cell_type": "code",
      "metadata": {
        "colab": {
          "base_uri": "https://localhost:8080/"
        },
        "id": "y112z6iAZeuu",
        "outputId": "7a3a5f6e-2b35-44ee-b59e-ff61d16e5154"
      },
      "source": [
        "y=dataset.Survived\n",
        "y"
      ],
      "execution_count": 218,
      "outputs": [
        {
          "output_type": "execute_result",
          "data": {
            "text/plain": [
              "0      0\n",
              "1      1\n",
              "2      1\n",
              "3      1\n",
              "4      0\n",
              "      ..\n",
              "886    0\n",
              "887    1\n",
              "888    0\n",
              "889    1\n",
              "890    0\n",
              "Name: Survived, Length: 891, dtype: int64"
            ]
          },
          "metadata": {
            "tags": []
          },
          "execution_count": 218
        }
      ]
    },
    {
      "cell_type": "markdown",
      "metadata": {
        "id": "xDzVJCOSO9yk"
      },
      "source": [
        "##Feature scalling"
      ]
    },
    {
      "cell_type": "code",
      "metadata": {
        "id": "6iCbVrX1PBbo"
      },
      "source": [
        "from sklearn.preprocessing import StandardScaler\n",
        "sc=StandardScaler()\n",
        "x=sc.fit_transform(x) "
      ],
      "execution_count": 219,
      "outputs": []
    },
    {
      "cell_type": "code",
      "metadata": {
        "id": "a5C_l5ypohRO"
      },
      "source": [
        "from sklearn.preprocessing import StandardScaler\n",
        "sc1=StandardScaler()\n",
        "testset=sc1.fit_transform(testset) "
      ],
      "execution_count": 220,
      "outputs": []
    },
    {
      "cell_type": "markdown",
      "metadata": {
        "id": "I2Jy-wU8PsqR"
      },
      "source": [
        "##tTraining"
      ]
    },
    {
      "cell_type": "code",
      "metadata": {
        "colab": {
          "base_uri": "https://localhost:8080/"
        },
        "id": "g8eNUm1FP0V0",
        "outputId": "fa7f18d2-2268-4cde-e042-7c6afbd60627"
      },
      "source": [
        "from sklearn.naive_bayes import GaussianNB\n",
        "classfier=GaussianNB()\n",
        "classfier.fit(x,y)"
      ],
      "execution_count": 221,
      "outputs": [
        {
          "output_type": "execute_result",
          "data": {
            "text/plain": [
              "GaussianNB(priors=None, var_smoothing=1e-09)"
            ]
          },
          "metadata": {
            "tags": []
          },
          "execution_count": 221
        }
      ]
    },
    {
      "cell_type": "markdown",
      "metadata": {
        "id": "cVXw2dbUQYNY"
      },
      "source": [
        "##predict xtest"
      ]
    },
    {
      "cell_type": "code",
      "metadata": {
        "id": "lBBGLaxLuJRS"
      },
      "source": [
        "\n",
        "y_pred=classfier.predict(testset)"
      ],
      "execution_count": 222,
      "outputs": []
    },
    {
      "cell_type": "code",
      "metadata": {
        "id": "9JUAqmpHUqxp"
      },
      "source": [
        "real_test = np.array ((len(x1), 1)).astype(int)\n",
        "pred1 = pd.DataFrame(y_pred, columns=['PassengerId']).to_csv('data1.csv')"
      ],
      "execution_count": 224,
      "outputs": []
    }
  ]
}